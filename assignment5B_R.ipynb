{
 "cells": [
  {
   "cell_type": "markdown",
   "id": "1c080773-5c14-4627-9bc3-f8a48d45431e",
   "metadata": {},
   "source": [
    "# Assignment 5 – Machine Learning in R\n",
    "\n",
    "**Author**: Jeff Barbee  \n",
    "**Email**: jeff.barbee@osumc.edu \n",
    "**Date**: [Submission Date]  \n",
    "**Environment**: See `environment.yml`  \n",
    "**Description**:  Assignment 5A\n",
    "This notebook explores basic machine learning using [scikit-learn/caret/etc.], including data preparation, model training, and evaluation."
   ]
  },
  {
   "cell_type": "code",
   "execution_count": null,
   "id": "4ee1efc8-9f6a-445d-b3b2-1ab3db4a432a",
   "metadata": {},
   "outputs": [],
   "source": [
    "#Assignment 5B R "
   ]
  },
  {
   "cell_type": "markdown",
   "id": "a3b46234-1d04-49b5-9948-945dbad72406",
   "metadata": {},
   "source": [
    "## Install packages"
   ]
  },
  {
   "cell_type": "code",
   "execution_count": null,
   "id": "8692f8df-0e3c-4aed-a8df-dadc7e8c64b4",
   "metadata": {},
   "outputs": [],
   "source": [
    "install.packages(\"caret\")\n",
    "library(caret)\n"
   ]
  },
  {
   "cell_type": "code",
   "execution_count": null,
   "id": "3edae686-4e1e-465b-abff-0ed37e62a47c",
   "metadata": {},
   "outputs": [],
   "source": [
    "dataset<-read.csv(\"iris.csv\", header = F)"
   ]
  },
  {
   "cell_type": "code",
   "execution_count": null,
   "id": "381161da-4e3d-4fa6-8daa-786edf8292a0",
   "metadata": {},
   "outputs": [],
   "source": [
    "colnames(dataset)<-c(\"Sepal.Length\",\"Sepal.Width\",\"Petal.Length\",\"Petal.Width\",\"Species\")"
   ]
  },
  {
   "cell_type": "code",
   "execution_count": null,
   "id": "a1385d29-128f-4dde-8104-879582be7959",
   "metadata": {},
   "outputs": [],
   "source": [
    "colnames(dataset)\n",
    "str(dataset)\n",
    "table(dataset$Species)\n",
    "dataset$Species<-as.factor(dataset$Species)\n",
    "str(dataset)"
   ]
  },
  {
   "cell_type": "markdown",
   "id": "6853705d-bc97-42cd-999c-7831fc7e8622",
   "metadata": {},
   "source": [
    "# Create Validation Data"
   ]
  },
  {
   "cell_type": "code",
   "execution_count": null,
   "id": "9ee4f33c-6998-4718-8841-3ec6538e0e08",
   "metadata": {},
   "outputs": [],
   "source": [
    "validation_index <- createDataPartition(dataset$Species, p=0.80, list=FALSE)"
   ]
  },
  {
   "cell_type": "code",
   "execution_count": null,
   "id": "71613417-e4e9-4145-b4c7-cedefeaba451",
   "metadata": {},
   "outputs": [],
   "source": [
    "validation <- dataset[-validation_index,]\n",
    "# use the remaining 80% of data to training and testing the models\n",
    "dataset <- dataset[validation_index,]"
   ]
  },
  {
   "cell_type": "markdown",
   "id": "1e07b523-011f-4e05-837e-8bf0917a2803",
   "metadata": {},
   "source": [
    "# Dimensions"
   ]
  },
  {
   "cell_type": "code",
   "execution_count": null,
   "id": "b65ccf67-9d97-452c-b1e4-9bcaea3102fc",
   "metadata": {},
   "outputs": [],
   "source": [
    "dim(dataset)"
   ]
  },
  {
   "cell_type": "code",
   "execution_count": null,
   "id": "c2421d33-87ee-41fd-8240-021ef2fc67bd",
   "metadata": {},
   "outputs": [],
   "source": [
    "colnames(dataset)"
   ]
  },
  {
   "cell_type": "code",
   "execution_count": null,
   "id": "92426c24-f1df-44b9-858d-46b0663bd4b8",
   "metadata": {},
   "outputs": [],
   "source": [
    "sapply(dataset, class)"
   ]
  },
  {
   "cell_type": "code",
   "execution_count": null,
   "id": "83123b01-92e3-49cb-a49a-04ff8cd1025d",
   "metadata": {},
   "outputs": [],
   "source": [
    "head(dataset)"
   ]
  },
  {
   "cell_type": "code",
   "execution_count": null,
   "id": "eb6fc8a4-e49e-4c6a-92d8-5fd044d9b9ac",
   "metadata": {},
   "outputs": [],
   "source": [
    "colnames(dataset)"
   ]
  },
  {
   "cell_type": "code",
   "execution_count": null,
   "id": "7db4b7ac-cf3e-4d10-8d33-7cd9eb0a2240",
   "metadata": {},
   "outputs": [],
   "source": [
    "levels(dataset$Species)"
   ]
  },
  {
   "cell_type": "code",
   "execution_count": null,
   "id": "4735e6f4-af44-4928-9dad-87e6efdd8bca",
   "metadata": {},
   "outputs": [],
   "source": [
    "percentage <- prop.table(table(dataset$Species)) * 100\n",
    "cbind(freq=table(dataset$Species), percentage=percentage)"
   ]
  },
  {
   "cell_type": "code",
   "execution_count": null,
   "id": "6be38146-1017-4329-b4b3-653dfdf17c4a",
   "metadata": {},
   "outputs": [],
   "source": [
    "summary(dataset)"
   ]
  },
  {
   "cell_type": "markdown",
   "id": "f9cc66b0-3fe5-4ee9-b831-327b7319e39d",
   "metadata": {},
   "source": [
    "# Visualizations "
   ]
  },
  {
   "cell_type": "code",
   "execution_count": null,
   "id": "48276fcd-5df3-45e1-a2cd-affef515bbdc",
   "metadata": {},
   "outputs": [],
   "source": [
    "# split input and output\n",
    "x <- dataset[,1:4]\n",
    "y <- dataset[,5]\n"
   ]
  },
  {
   "cell_type": "code",
   "execution_count": null,
   "id": "c1772f14-9240-4b94-bfeb-2624ca6e8e08",
   "metadata": {},
   "outputs": [],
   "source": [
    "# boxplot for each attribute on one image\n",
    "par(mfrow=c(1,4))\n",
    "  for(i in 1:4) {\n",
    "  boxplot(x[,i], main=names(iris)[i])\n",
    "}\n"
   ]
  },
  {
   "cell_type": "code",
   "execution_count": null,
   "id": "1d5cfc30-c2a2-4c6b-b396-0ef828a46594",
   "metadata": {},
   "outputs": [],
   "source": [
    "install.packages(\"Seurat\")\n",
    "library(Seurat)"
   ]
  },
  {
   "cell_type": "code",
   "execution_count": null,
   "id": "394de91f-e36c-456d-9dcc-2c6db294c011",
   "metadata": {},
   "outputs": [],
   "source": [
    "# barplot for class breakdown\n",
    "plot(y)\n"
   ]
  },
  {
   "cell_type": "code",
   "execution_count": null,
   "id": "553d001a-449e-434b-bca2-06b4ad603a58",
   "metadata": {},
   "outputs": [],
   "source": [
    "# scatterplot matrix\n",
    "featurePlot(x=x, y=y, plot=\"ellipse\")\n"
   ]
  },
  {
   "cell_type": "code",
   "execution_count": null,
   "id": "b2d5fee0-afb1-4ad0-b93b-854229ac9e9a",
   "metadata": {},
   "outputs": [],
   "source": [
    "# box and whisker plots for each attribute\n",
    "featurePlot(x=x, y=y, plot=\"box\")\n"
   ]
  },
  {
   "cell_type": "code",
   "execution_count": null,
   "id": "f7628b39-c23b-42f1-935a-bb6d7b28fdf0",
   "metadata": {},
   "outputs": [],
   "source": [
    "# density plots for each attribute by class value\n",
    "scales <- list(x=list(relation=\"free\"), y=list(relation=\"free\"))\n",
    "featurePlot(x=x, y=y, plot=\"density\", scales=scales)\n"
   ]
  },
  {
   "cell_type": "code",
   "execution_count": null,
   "id": "8e8619ac-2a52-40dc-939b-3b93d5609a65",
   "metadata": {},
   "outputs": [],
   "source": [
    "# Run algorithms using 10-fold cross validation\n",
    "control <- trainControl(method=\"cv\", number=10)\n",
    "metric <- \"Accuracy\"\n"
   ]
  },
  {
   "cell_type": "markdown",
   "id": "40e9c588-43ad-45f7-aef8-63b4427c0fc6",
   "metadata": {},
   "source": [
    "# Build Models"
   ]
  },
  {
   "cell_type": "code",
   "execution_count": null,
   "id": "df4da35e-6969-4b55-a292-1b9b80fc6e17",
   "metadata": {},
   "outputs": [],
   "source": [
    "\n",
    "# a) linear algorithms\n",
    "set.seed(7)\n",
    "fit.lda <- train(Species~., data=dataset, method=\"lda\", metric=metric, trControl=control)\n",
    "# b) nonlinear algorithms\n",
    "# CART\n",
    "set.seed(7)\n",
    "fit.cart <- train(Species~., data=dataset, method=\"rpart\", metric=metric, trControl=control)\n",
    "# kNN\n",
    "set.seed(7)\n",
    "fit.knn <- train(Species~., data=dataset, method=\"knn\", metric=metric, trControl=control)\n",
    "# c) advanced algorithms\n",
    "# SVM\n",
    "set.seed(7)\n",
    "fit.svm <- train(Species~., data=dataset, method=\"svmRadial\", metric=metric, trControl=control)\n",
    "# Random Forest\n",
    "set.seed(7)\n",
    "fit.rf <- train(Species~., data=dataset, method=\"rf\", metric=metric, trControl=control)\n"
   ]
  },
  {
   "cell_type": "code",
   "execution_count": null,
   "id": "61e21de9-a2b4-49bf-a623-256b74634449",
   "metadata": {},
   "outputs": [],
   "source": [
    "# summarize accuracy of models\n",
    "results <- resamples(list(lda=fit.lda, cart=fit.cart, knn=fit.knn, svm=fit.svm, rf=fit.rf))\n",
    "summary(results)\n"
   ]
  },
  {
   "cell_type": "code",
   "execution_count": null,
   "id": "970bb3d2-e22f-46ed-a669-e4cabc5df9e7",
   "metadata": {},
   "outputs": [],
   "source": [
    "# compare accuracy of models\n",
    "dotplot(results)\n"
   ]
  },
  {
   "cell_type": "code",
   "execution_count": null,
   "id": "63beaa7a-93ee-4ae2-b207-df337c066c44",
   "metadata": {},
   "outputs": [],
   "source": [
    "# summarize Best Model\n",
    "print(fit.lda)\n"
   ]
  },
  {
   "cell_type": "code",
   "execution_count": null,
   "id": "d13c4db1-49c1-440a-b00b-5c75b2e75977",
   "metadata": {},
   "outputs": [],
   "source": [
    "# estimate skill of LDA on the validation dataset\n",
    "predictions <- predict(fit.lda, validation)\n",
    "confusionMatrix(predictions, validation$Species)\n"
   ]
  },
  {
   "cell_type": "code",
   "execution_count": null,
   "id": "e2433f67-c494-45ba-bc5a-e46c84905366",
   "metadata": {},
   "outputs": [],
   "source": []
  },
  {
   "cell_type": "code",
   "execution_count": null,
   "id": "01f765b7-5310-47b1-9bca-ecca530b94a1",
   "metadata": {},
   "outputs": [],
   "source": []
  }
 ],
 "metadata": {
  "kernelspec": {
   "display_name": "R (assignment5)",
   "language": "R",
   "name": "assignment5"
  },
  "language_info": {
   "codemirror_mode": "r",
   "file_extension": ".r",
   "mimetype": "text/x-r-source",
   "name": "R",
   "pygments_lexer": "r",
   "version": "4.4.3"
  }
 },
 "nbformat": 4,
 "nbformat_minor": 5
}
